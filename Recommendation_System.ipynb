{
  "nbformat": 4,
  "nbformat_minor": 0,
  "metadata": {
    "colab": {
      "provenance": []
    },
    "kernelspec": {
      "name": "python3",
      "display_name": "Python 3"
    },
    "language_info": {
      "name": "python"
    }
  },
  "cells": [
    {
      "cell_type": "markdown",
      "source": [
        "# **Recommendation System Project: [(The Movie)](https://www.kaggle.com/datasets/parasharmanas/movie-recommendation-system)**\n",
        "- **Nama:** Indira Aline\n",
        "- **Email:** indiradira63@gmail.com\n",
        "- **ID Dicoding:** indira_kbs"
      ],
      "metadata": {
        "id": "oyXdGbaexqk7"
      }
    },
    {
      "cell_type": "markdown",
      "source": [
        "## Movie Recommendation\n",
        "\n",
        "In this project, we will do a movies recommendation system. Today, the products launch very fast, there are a large number of new products every day. If we have recommendation system, users do not need to spend too much time to pick the one they interested. Which is conducive to increasing users stickiness.\n",
        "\n",
        "Since we aleardy did a movies recommendation in HW3, we will do it in a different way. In the HW3, we use similarity measures for recommendation, which requires other user rate the movie first. In my project, we will cluster the users dan predict the movies rate by its genres and years. Using this method. We do not need the user rate the movies first, which is more suitable in real world."
      ],
      "metadata": {
        "id": "tWQGWa8RyNqe"
      }
    },
    {
      "cell_type": "markdown",
      "source": [
        "# **Import Semua Packages/Library yang Digunakan**"
      ],
      "metadata": {
        "id": "mYtxI4akyXQQ"
      }
    },
    {
      "cell_type": "code",
      "execution_count": null,
      "metadata": {
        "id": "QeC00X5Du0u7",
        "colab": {
          "base_uri": "https://localhost:8080/"
        },
        "outputId": "4453219b-ced3-4b3a-a476-689df2d09741"
      },
      "outputs": [
        {
          "output_type": "stream",
          "name": "stdout",
          "text": [
            "Mounted at /content/drive\n"
          ]
        }
      ],
      "source": [
        "import pandas as pd\n",
        "import matplotlib.pyplot as plt\n",
        "import numpy as np\n",
        "from sklearn.model_selection import train_test_split\n",
        "import re\n",
        "import random\n",
        "import os\n",
        "\n",
        "%matplotlib inline\n",
        "\n",
        "from sklearn.cluster import DBSCAN, AgglomerativeClustering, KMeans\n",
        "\n",
        "# Mount Google Drive (Colab)\n",
        "from google.colab import files\n",
        "from google.colab import drive\n",
        "drive.mount('/content/drive')"
      ]
    },
    {
      "cell_type": "code",
      "source": [
        "!pip install --upgrade scikit-learn"
      ],
      "metadata": {
        "colab": {
          "base_uri": "https://localhost:8080/"
        },
        "id": "tdZCd9mt-LRs",
        "outputId": "4830f44d-87bf-40a4-98fe-e4232c9c5982"
      },
      "execution_count": null,
      "outputs": [
        {
          "output_type": "stream",
          "name": "stdout",
          "text": [
            "Requirement already satisfied: scikit-learn in /usr/local/lib/python3.11/dist-packages (1.6.1)\n",
            "Requirement already satisfied: numpy>=1.19.5 in /usr/local/lib/python3.11/dist-packages (from scikit-learn) (2.0.2)\n",
            "Requirement already satisfied: scipy>=1.6.0 in /usr/local/lib/python3.11/dist-packages (from scikit-learn) (1.15.2)\n",
            "Requirement already satisfied: joblib>=1.2.0 in /usr/local/lib/python3.11/dist-packages (from scikit-learn) (1.5.0)\n",
            "Requirement already satisfied: threadpoolctl>=3.1.0 in /usr/local/lib/python3.11/dist-packages (from scikit-learn) (3.6.0)\n"
          ]
        }
      ]
    },
    {
      "cell_type": "markdown",
      "source": [
        "## **Data Preparation**"
      ],
      "metadata": {
        "id": "6lAmWal66gHD"
      }
    },
    {
      "cell_type": "markdown",
      "source": [
        "## Data Loading"
      ],
      "metadata": {
        "id": "fyg74F3_zdTb"
      }
    },
    {
      "cell_type": "code",
      "source": [
        "# Import module yang disediakan google colab untuk kebutuhan upload file\n",
        "\n",
        "from google.colab import files\n",
        "files.upload()"
      ],
      "metadata": {
        "colab": {
          "base_uri": "https://localhost:8080/",
          "height": 90
        },
        "id": "cppmMMS7zeqR",
        "outputId": "eae9d3ec-7d1e-427f-e971-a682489a58d2"
      },
      "execution_count": null,
      "outputs": [
        {
          "output_type": "display_data",
          "data": {
            "text/plain": [
              "<IPython.core.display.HTML object>"
            ],
            "text/html": [
              "\n",
              "     <input type=\"file\" id=\"files-8a7de343-4157-4b28-aec3-2618ecc83b68\" name=\"files[]\" multiple disabled\n",
              "        style=\"border:none\" />\n",
              "     <output id=\"result-8a7de343-4157-4b28-aec3-2618ecc83b68\">\n",
              "      Upload widget is only available when the cell has been executed in the\n",
              "      current browser session. Please rerun this cell to enable.\n",
              "      </output>\n",
              "      <script>// Copyright 2017 Google LLC\n",
              "//\n",
              "// Licensed under the Apache License, Version 2.0 (the \"License\");\n",
              "// you may not use this file except in compliance with the License.\n",
              "// You may obtain a copy of the License at\n",
              "//\n",
              "//      http://www.apache.org/licenses/LICENSE-2.0\n",
              "//\n",
              "// Unless required by applicable law or agreed to in writing, software\n",
              "// distributed under the License is distributed on an \"AS IS\" BASIS,\n",
              "// WITHOUT WARRANTIES OR CONDITIONS OF ANY KIND, either express or implied.\n",
              "// See the License for the specific language governing permissions and\n",
              "// limitations under the License.\n",
              "\n",
              "/**\n",
              " * @fileoverview Helpers for google.colab Python module.\n",
              " */\n",
              "(function(scope) {\n",
              "function span(text, styleAttributes = {}) {\n",
              "  const element = document.createElement('span');\n",
              "  element.textContent = text;\n",
              "  for (const key of Object.keys(styleAttributes)) {\n",
              "    element.style[key] = styleAttributes[key];\n",
              "  }\n",
              "  return element;\n",
              "}\n",
              "\n",
              "// Max number of bytes which will be uploaded at a time.\n",
              "const MAX_PAYLOAD_SIZE = 100 * 1024;\n",
              "\n",
              "function _uploadFiles(inputId, outputId) {\n",
              "  const steps = uploadFilesStep(inputId, outputId);\n",
              "  const outputElement = document.getElementById(outputId);\n",
              "  // Cache steps on the outputElement to make it available for the next call\n",
              "  // to uploadFilesContinue from Python.\n",
              "  outputElement.steps = steps;\n",
              "\n",
              "  return _uploadFilesContinue(outputId);\n",
              "}\n",
              "\n",
              "// This is roughly an async generator (not supported in the browser yet),\n",
              "// where there are multiple asynchronous steps and the Python side is going\n",
              "// to poll for completion of each step.\n",
              "// This uses a Promise to block the python side on completion of each step,\n",
              "// then passes the result of the previous step as the input to the next step.\n",
              "function _uploadFilesContinue(outputId) {\n",
              "  const outputElement = document.getElementById(outputId);\n",
              "  const steps = outputElement.steps;\n",
              "\n",
              "  const next = steps.next(outputElement.lastPromiseValue);\n",
              "  return Promise.resolve(next.value.promise).then((value) => {\n",
              "    // Cache the last promise value to make it available to the next\n",
              "    // step of the generator.\n",
              "    outputElement.lastPromiseValue = value;\n",
              "    return next.value.response;\n",
              "  });\n",
              "}\n",
              "\n",
              "/**\n",
              " * Generator function which is called between each async step of the upload\n",
              " * process.\n",
              " * @param {string} inputId Element ID of the input file picker element.\n",
              " * @param {string} outputId Element ID of the output display.\n",
              " * @return {!Iterable<!Object>} Iterable of next steps.\n",
              " */\n",
              "function* uploadFilesStep(inputId, outputId) {\n",
              "  const inputElement = document.getElementById(inputId);\n",
              "  inputElement.disabled = false;\n",
              "\n",
              "  const outputElement = document.getElementById(outputId);\n",
              "  outputElement.innerHTML = '';\n",
              "\n",
              "  const pickedPromise = new Promise((resolve) => {\n",
              "    inputElement.addEventListener('change', (e) => {\n",
              "      resolve(e.target.files);\n",
              "    });\n",
              "  });\n",
              "\n",
              "  const cancel = document.createElement('button');\n",
              "  inputElement.parentElement.appendChild(cancel);\n",
              "  cancel.textContent = 'Cancel upload';\n",
              "  const cancelPromise = new Promise((resolve) => {\n",
              "    cancel.onclick = () => {\n",
              "      resolve(null);\n",
              "    };\n",
              "  });\n",
              "\n",
              "  // Wait for the user to pick the files.\n",
              "  const files = yield {\n",
              "    promise: Promise.race([pickedPromise, cancelPromise]),\n",
              "    response: {\n",
              "      action: 'starting',\n",
              "    }\n",
              "  };\n",
              "\n",
              "  cancel.remove();\n",
              "\n",
              "  // Disable the input element since further picks are not allowed.\n",
              "  inputElement.disabled = true;\n",
              "\n",
              "  if (!files) {\n",
              "    return {\n",
              "      response: {\n",
              "        action: 'complete',\n",
              "      }\n",
              "    };\n",
              "  }\n",
              "\n",
              "  for (const file of files) {\n",
              "    const li = document.createElement('li');\n",
              "    li.append(span(file.name, {fontWeight: 'bold'}));\n",
              "    li.append(span(\n",
              "        `(${file.type || 'n/a'}) - ${file.size} bytes, ` +\n",
              "        `last modified: ${\n",
              "            file.lastModifiedDate ? file.lastModifiedDate.toLocaleDateString() :\n",
              "                                    'n/a'} - `));\n",
              "    const percent = span('0% done');\n",
              "    li.appendChild(percent);\n",
              "\n",
              "    outputElement.appendChild(li);\n",
              "\n",
              "    const fileDataPromise = new Promise((resolve) => {\n",
              "      const reader = new FileReader();\n",
              "      reader.onload = (e) => {\n",
              "        resolve(e.target.result);\n",
              "      };\n",
              "      reader.readAsArrayBuffer(file);\n",
              "    });\n",
              "    // Wait for the data to be ready.\n",
              "    let fileData = yield {\n",
              "      promise: fileDataPromise,\n",
              "      response: {\n",
              "        action: 'continue',\n",
              "      }\n",
              "    };\n",
              "\n",
              "    // Use a chunked sending to avoid message size limits. See b/62115660.\n",
              "    let position = 0;\n",
              "    do {\n",
              "      const length = Math.min(fileData.byteLength - position, MAX_PAYLOAD_SIZE);\n",
              "      const chunk = new Uint8Array(fileData, position, length);\n",
              "      position += length;\n",
              "\n",
              "      const base64 = btoa(String.fromCharCode.apply(null, chunk));\n",
              "      yield {\n",
              "        response: {\n",
              "          action: 'append',\n",
              "          file: file.name,\n",
              "          data: base64,\n",
              "        },\n",
              "      };\n",
              "\n",
              "      let percentDone = fileData.byteLength === 0 ?\n",
              "          100 :\n",
              "          Math.round((position / fileData.byteLength) * 100);\n",
              "      percent.textContent = `${percentDone}% done`;\n",
              "\n",
              "    } while (position < fileData.byteLength);\n",
              "  }\n",
              "\n",
              "  // All done.\n",
              "  yield {\n",
              "    response: {\n",
              "      action: 'complete',\n",
              "    }\n",
              "  };\n",
              "}\n",
              "\n",
              "scope.google = scope.google || {};\n",
              "scope.google.colab = scope.google.colab || {};\n",
              "scope.google.colab._files = {\n",
              "  _uploadFiles,\n",
              "  _uploadFilesContinue,\n",
              "};\n",
              "})(self);\n",
              "</script> "
            ]
          },
          "metadata": {}
        },
        {
          "output_type": "stream",
          "name": "stdout",
          "text": [
            "Saving kaggle.json to kaggle.json\n"
          ]
        },
        {
          "output_type": "execute_result",
          "data": {
            "text/plain": [
              "{'kaggle.json': b'{\"username\":\"yongpon\",\"key\":\"1dd3283e358f8b2e41141009ae9eed48\"}'}"
            ]
          },
          "metadata": {},
          "execution_count": 3
        }
      ]
    },
    {
      "cell_type": "code",
      "source": [
        "# Setup Kaggle API authentication\n",
        "os.makedirs('/root/.kaggle', exist_ok=True)\n",
        "!mv kaggle.json /root/.kaggle/\n",
        "!chmod 600 /root/.kaggle/kaggle.json\n",
        "!ls -l /root/.kaggle/"
      ],
      "metadata": {
        "colab": {
          "base_uri": "https://localhost:8080/"
        },
        "id": "5bhUPOiczoih",
        "outputId": "a253f51a-2fd7-4ec7-bafc-cb84f94b8a80"
      },
      "execution_count": null,
      "outputs": [
        {
          "output_type": "stream",
          "name": "stdout",
          "text": [
            "total 4\n",
            "-rw------- 1 root root 63 May 13 07:30 kaggle.json\n"
          ]
        }
      ]
    },
    {
      "cell_type": "code",
      "source": [
        "!kaggle datasets download -d parasharmanas/movie-recommendation-system"
      ],
      "metadata": {
        "colab": {
          "base_uri": "https://localhost:8080/"
        },
        "id": "g6kP6zPWzxA8",
        "outputId": "6be03f99-1c09-44a2-b20d-60358c50f243"
      },
      "execution_count": null,
      "outputs": [
        {
          "output_type": "stream",
          "name": "stdout",
          "text": [
            "Dataset URL: https://www.kaggle.com/datasets/parasharmanas/movie-recommendation-system\n",
            "License(s): ODbL-1.0\n"
          ]
        }
      ]
    },
    {
      "cell_type": "code",
      "source": [
        "import zipfile,os,shutil"
      ],
      "metadata": {
        "id": "SgcI39zOz4tp"
      },
      "execution_count": null,
      "outputs": []
    },
    {
      "cell_type": "code",
      "source": [
        "fileZip = \"movie-recommendation-system.zip\"\n",
        "extracZip = zipfile.ZipFile(fileZip, 'r')\n",
        "extracZip.extractall(\"dataset\")"
      ],
      "metadata": {
        "id": "wZWhXaEVz7Go"
      },
      "execution_count": null,
      "outputs": []
    },
    {
      "cell_type": "code",
      "source": [
        "os.listdir(\"/content/dataset\")"
      ],
      "metadata": {
        "colab": {
          "base_uri": "https://localhost:8080/"
        },
        "id": "qHiyFpNt0F47",
        "outputId": "94e2b1a6-9db2-4ac9-eea8-496cc2cc8ca8"
      },
      "execution_count": null,
      "outputs": [
        {
          "output_type": "execute_result",
          "data": {
            "text/plain": [
              "['movies.csv', 'ratings.csv']"
            ]
          },
          "metadata": {},
          "execution_count": 8
        }
      ]
    },
    {
      "cell_type": "code",
      "source": [
        "movies = pd.read_csv('dataset/movies.csv')\n",
        "ratings = pd.read_csv('dataset/ratings.csv')\n",
        "print(movies.info())\n",
        "print(movies.head())"
      ],
      "metadata": {
        "colab": {
          "base_uri": "https://localhost:8080/"
        },
        "id": "xs7_U0Lx0okc",
        "outputId": "613e736c-c731-478b-f206-75c6a9432552"
      },
      "execution_count": null,
      "outputs": [
        {
          "output_type": "stream",
          "name": "stdout",
          "text": [
            "<class 'pandas.core.frame.DataFrame'>\n",
            "RangeIndex: 62423 entries, 0 to 62422\n",
            "Data columns (total 3 columns):\n",
            " #   Column   Non-Null Count  Dtype \n",
            "---  ------   --------------  ----- \n",
            " 0   movieId  62423 non-null  int64 \n",
            " 1   title    62423 non-null  object\n",
            " 2   genres   62423 non-null  object\n",
            "dtypes: int64(1), object(2)\n",
            "memory usage: 1.4+ MB\n",
            "None\n",
            "   movieId                               title  \\\n",
            "0        1                    Toy Story (1995)   \n",
            "1        2                      Jumanji (1995)   \n",
            "2        3             Grumpier Old Men (1995)   \n",
            "3        4            Waiting to Exhale (1995)   \n",
            "4        5  Father of the Bride Part II (1995)   \n",
            "\n",
            "                                        genres  \n",
            "0  Adventure|Animation|Children|Comedy|Fantasy  \n",
            "1                   Adventure|Children|Fantasy  \n",
            "2                               Comedy|Romance  \n",
            "3                         Comedy|Drama|Romance  \n",
            "4                                       Comedy  \n"
          ]
        }
      ]
    },
    {
      "cell_type": "code",
      "source": [
        "print(ratings.info())\n",
        "print(ratings.head())"
      ],
      "metadata": {
        "colab": {
          "base_uri": "https://localhost:8080/"
        },
        "id": "cklDnxfk1pQG",
        "outputId": "5deada5a-1b6e-4769-b357-2ee11b5f6b8a"
      },
      "execution_count": null,
      "outputs": [
        {
          "output_type": "stream",
          "name": "stdout",
          "text": [
            "<class 'pandas.core.frame.DataFrame'>\n",
            "RangeIndex: 25000095 entries, 0 to 25000094\n",
            "Data columns (total 4 columns):\n",
            " #   Column     Dtype  \n",
            "---  ------     -----  \n",
            " 0   userId     int64  \n",
            " 1   movieId    int64  \n",
            " 2   rating     float64\n",
            " 3   timestamp  int64  \n",
            "dtypes: float64(1), int64(3)\n",
            "memory usage: 762.9 MB\n",
            "None\n",
            "   userId  movieId  rating   timestamp\n",
            "0       1      296     5.0  1147880044\n",
            "1       1      306     3.5  1147868817\n",
            "2       1      307     5.0  1147868828\n",
            "3       1      665     5.0  1147878820\n",
            "4       1      899     3.5  1147868510\n"
          ]
        }
      ]
    },
    {
      "cell_type": "markdown",
      "source": [
        "We can see that those movies contain tittle and genre, but in string type, we will do data cleaning and modification. Ignore the tittle, create new column 'years' and change the genres to one-hot coding."
      ],
      "metadata": {
        "id": "NER11r9b5VlG"
      }
    },
    {
      "cell_type": "markdown",
      "source": [
        "## Exploratory Data Analysis"
      ],
      "metadata": {
        "id": "gR1zHGHk5rg8"
      }
    },
    {
      "cell_type": "code",
      "source": [
        "genres = set()\n",
        "genres_list = []\n",
        "genres_count = dict()\n",
        "\n",
        "for i in movies['genres']:\n",
        "    gen = i.split('|')\n",
        "    genres_list.append(gen)\n",
        "    genres = genres.union(set(gen))\n",
        "    for j in gen:\n",
        "        if j not in genres_count:\n",
        "            genres_count[j] = 1\n",
        "        else:\n",
        "            genres_count[j] += 1\n",
        "\n",
        "print(f'There are {len(genres)} kinds of genres, they are {genres}')\n",
        "\n",
        "# Convert number to percentage\n",
        "movies_num = len(movies)\n",
        "for k, v in genres_count.items():\n",
        "    genres_count[k] = v/movies_num\n",
        "\n",
        "plt.bar(*zip(*genres_count.items()))\n",
        "plt.xticks(rotation=90)\n",
        "plt.show()"
      ],
      "metadata": {
        "colab": {
          "base_uri": "https://localhost:8080/",
          "height": 575
        },
        "id": "2AtFh67X5m4I",
        "outputId": "635e0b46-10ef-4aaf-8864-c7e3370382ba"
      },
      "execution_count": null,
      "outputs": [
        {
          "output_type": "stream",
          "name": "stdout",
          "text": [
            "There are 20 kinds of genres, they are {'Adventure', 'Crime', 'Sci-Fi', 'Musical', 'Drama', 'Romance', 'Film-Noir', 'War', 'Horror', 'Documentary', 'IMAX', 'Animation', 'Comedy', 'Thriller', 'Western', 'Action', '(no genres listed)', 'Children', 'Mystery', 'Fantasy'}\n"
          ]
        },
        {
          "output_type": "display_data",
          "data": {
            "text/plain": [
              "<Figure size 640x480 with 1 Axes>"
            ],
            "image/png": "[encoded data removed]"
          },
          "metadata": {}
        }
      ]
    },
    {
      "cell_type": "markdown",
      "source": [
        "Extract the years of movies from the title. If the movies do not contain the year or the year is out of range, we will set it to 'unknown'. The movies are from 1870s to 2010s, a long time span, and the year of movie itself does not affect people like it or not; we will convert it to 'new_movies_ratio', 'old_movies_ratio', which is new_movies/total_movies they watched, the sum of them will be one. Whenever the year of movie is after 2000 will be consider as new movies."
      ],
      "metadata": {
        "id": "mfJqIoJY7WrO"
      }
    },
    {
      "cell_type": "code",
      "source": [
        "years = []\n",
        "years_in_decade = {'unknown': 0}\n",
        "nonyear = []\n",
        "for i in movies['title']:\n",
        "    year_str = re.findall(r'\\(\\s*\\+?(-?\\d+)\\s*\\)', i)\n",
        "    if year_str:\n",
        "        year_int = int(year_str[-1])\n",
        "    else:\n",
        "        nonyear.append(i)\n",
        "        year_int = 0\n",
        "    if year_int < 1800 or year_int > 2024:\n",
        "        year_int = 0\n",
        "    years.append(year_int)\n",
        "\n",
        "deca = year_int // 10 * 10\n",
        "if deca == 0:\n",
        "    years_in_decade['unknown'] += 1\n",
        "elif str(deca) not in years_in_decade:\n",
        "    years_in_decade[str(deca)] = 1\n",
        "else:\n",
        "    years_in_decade[str(deca)] += 1\n",
        "\n",
        "cleaned_movies = pd.DataFrame(columns=['movieId', 'year', 'genres'])\n",
        "cleaned_movies['movieId'] = movies['movieId']\n",
        "cleaned_movies['year'] = years\n",
        "cleaned_movies['genres'] = genres_list\n",
        "\n",
        "print(cleaned_movies.head())"
      ],
      "metadata": {
        "id": "dvRSkDcEfXIy",
        "colab": {
          "base_uri": "https://localhost:8080/"
        },
        "outputId": "1c4091e2-d189-4912-ec49-2c12f5e0bca2"
      },
      "execution_count": null,
      "outputs": [
        {
          "output_type": "stream",
          "name": "stdout",
          "text": [
            "   movieId  year                                             genres\n",
            "0        1  1995  [Adventure, Animation, Children, Comedy, Fantasy]\n",
            "1        2  1995                     [Adventure, Children, Fantasy]\n",
            "2        3  1995                                  [Comedy, Romance]\n",
            "3        4  1995                           [Comedy, Drama, Romance]\n",
            "4        5  1995                                           [Comedy]\n"
          ]
        }
      ]
    },
    {
      "cell_type": "code",
      "source": [
        "years_in_decade = {}\n",
        "\n",
        "for year in years:\n",
        "    if year < 1800 or year > 2024:\n",
        "        decade = 'unknown'\n",
        "    else:\n",
        "        decade = str((year // 10) * 10)\n",
        "\n",
        "    if decade not in years_in_decade:\n",
        "        years_in_decade[decade] = 0\n",
        "    years_in_decade[decade] += 1\n",
        "\n",
        "# Hitung persentase\n",
        "total_movies = len(years)\n",
        "for decade in years_in_decade:\n",
        "    years_in_decade[decade] = years_in_decade[decade] / total_movies\n",
        "\n",
        "# Urutkan berdasarkan dekade\n",
        "sorted_decades = sorted(years_in_decade.keys(), key=lambda x: float(x) if x != 'unknown' else -1)\n",
        "sorted_percentages = [years_in_decade[decade] for decade in sorted_decades]\n",
        "\n",
        "# Visualisasi\n",
        "plt.figure(figsize=(12, 6))\n",
        "plt.bar(sorted_decades, sorted_percentages)\n",
        "plt.xlabel('Dekade')\n",
        "plt.ylabel('Persentase Film')\n",
        "plt.title('Distribusi Film Berdasarkan Dekade')\n",
        "plt.xticks(rotation=45)\n",
        "plt.show()"
      ],
      "metadata": {
        "id": "zsM51fpUgrrL",
        "colab": {
          "base_uri": "https://localhost:8080/",
          "height": 605
        },
        "outputId": "8b723849-3e2d-446e-b935-dbc6a16be800"
      },
      "execution_count": null,
      "outputs": [
        {
          "output_type": "display_data",
          "data": {
            "text/plain": [
              "<Figure size 1200x600 with 1 Axes>"
            ],
            "image/png": "[encoded data removed]"
          },
          "metadata": {}
        }
      ]
    },
    {
      "cell_type": "markdown",
      "source": [
        "Next step, we will modify the 'ratings' dataset to 'user_preferences'. Calculate the user average rate, how many movies they watch, and which kind of genres they like"
      ],
      "metadata": {
        "id": "Oy5jXd4Ihoo-"
      }
    },
    {
      "cell_type": "markdown",
      "source": [
        "## Data Preprocessing"
      ],
      "metadata": {
        "id": "i_CspVGa46hv"
      }
    },
    {
      "cell_type": "code",
      "source": [
        "genres_list = list(genres_count.keys())\n",
        "columns = ['userId', 'number_of_movies', 'average_rate', 'new_movies_rate', 'old_movies_rate'] + genres_list\n",
        "user_preferences = pd.DataFrame(columns=columns)\n",
        "user_group = ratings.groupby('userId').agg(lambda x: list(x))\n",
        "\n",
        "movie2index = pd.DataFrame(columns=['movieId', 'df_index'])\n",
        "movie2index['df_index'] = cleaned_movies.index\n",
        "movie2index['movieId'] = cleaned_movies['movieId']\n",
        "movie2index.set_index('movieId', inplace=True)\n",
        "\n",
        "print(user_group.head())"
      ],
      "metadata": {
        "id": "tMmHU48UiCWi",
        "colab": {
          "base_uri": "https://localhost:8080/"
        },
        "outputId": "8a103508-222d-4040-e122-5738389c638f"
      },
      "execution_count": null,
      "outputs": [
        {
          "output_type": "stream",
          "name": "stdout",
          "text": [
            "                                                  movieId  \\\n",
            "userId                                                      \n",
            "1       [296, 306, 307, 665, 899, 1088, 1175, 1217, 12...   \n",
            "2       [1, 62, 110, 150, 151, 236, 260, 261, 266, 318...   \n",
            "3       [1, 29, 32, 50, 111, 172, 173, 214, 260, 293, ...   \n",
            "4       [1, 260, 296, 541, 589, 780, 924, 1036, 1080, ...   \n",
            "5       [1, 19, 32, 36, 39, 47, 50, 88, 95, 104, 113, ...   \n",
            "\n",
            "                                                   rating  \\\n",
            "userId                                                      \n",
            "1       [5.0, 3.5, 5.0, 5.0, 3.5, 4.0, 3.5, 3.5, 5.0, ...   \n",
            "2       [3.5, 0.5, 5.0, 4.0, 4.5, 4.0, 5.0, 0.5, 1.0, ...   \n",
            "3       [4.0, 4.5, 4.5, 5.0, 4.0, 4.0, 3.0, 5.0, 4.0, ...   \n",
            "4       [3.0, 3.5, 4.0, 4.5, 4.0, 2.0, 4.0, 4.0, 3.5, ...   \n",
            "5       [4.0, 4.0, 5.0, 5.0, 2.0, 5.0, 5.0, 4.0, 3.0, ...   \n",
            "\n",
            "                                                timestamp  \n",
            "userId                                                     \n",
            "1       [1147880044, 1147868817, 1147868828, 114787882...  \n",
            "2       [1141415820, 1141417130, 1141416589, 114141579...  \n",
            "3       [1439472215, 1484754967, 1439474635, 143947439...  \n",
            "4       [1573944252, 1573938415, 1573938898, 157394430...  \n",
            "5       [858625949, 830786345, 830786277, 830786409, 8...  \n"
          ]
        }
      ]
    },
    {
      "cell_type": "code",
      "source": [
        "watched_movies = user_group['movieId'].str.len()\n",
        "plt.boxplot(watched_movies)\n",
        "plt.show()\n",
        "print(f'The Min is {min(watched_movies)}, the Max is {max(watched_movies)}')"
      ],
      "metadata": {
        "id": "G09hty48ieGX",
        "colab": {
          "base_uri": "https://localhost:8080/",
          "height": 447
        },
        "outputId": "ffad41bb-fd70-4c0f-f5ea-e206f2489340"
      },
      "execution_count": null,
      "outputs": [
        {
          "output_type": "display_data",
          "data": {
            "text/plain": [
              "<Figure size 640x480 with 1 Axes>"
            ],
            "image/png": "[encoded data removed]"
          },
          "metadata": {}
        },
        {
          "output_type": "stream",
          "name": "stdout",
          "text": [
            "The Min is 20, the Max is 32202\n"
          ]
        }
      ]
    },
    {
      "cell_type": "markdown",
      "source": [
        "We can see that there is a extreme outlier and some small outliers in our dataset, and they are very extreme, and will affect our model performance. We need to get rid off them. We will remove what ever is higher than 1000"
      ],
      "metadata": {
        "id": "lTFurI9_jgym"
      }
    },
    {
      "cell_type": "code",
      "source": [
        "watched_movies_nooutlier = [x for x in watched_movies if x <= 1000]\n",
        "plt.boxplot(watched_movies_nooutlier)\n",
        "plt.show()"
      ],
      "metadata": {
        "colab": {
          "base_uri": "https://localhost:8080/",
          "height": 430
        },
        "id": "PazLd0Nuz7Qe",
        "outputId": "32411277-946e-4689-d1b2-bc71ff59edf3"
      },
      "execution_count": null,
      "outputs": [
        {
          "output_type": "display_data",
          "data": {
            "text/plain": [
              "<Figure size 640x480 with 1 Axes>"
            ],
            "image/png": "[encoded data removed]"
          },
          "metadata": {}
        }
      ]
    },
    {
      "cell_type": "markdown",
      "source": [
        "It looks much better, although it still have a lot of outliers, we will try using it first.\n",
        "\n",
        "Before we using the cleaned_moveis, we want to conver the genres to one hot encoding; List is good for visualization, but is harder for computer to count."
      ],
      "metadata": {
        "id": "KP-aMyR90THl"
      }
    },
    {
      "cell_type": "markdown",
      "source": [
        "## Data Cleaning"
      ],
      "metadata": {
        "id": "fdNKmO0U9EGt"
      }
    },
    {
      "cell_type": "code",
      "source": [
        "v = cleaned_movies.genres.values\n",
        "l = [len(x) for x in v.tolist()]\n",
        "f, u = pd.factorize(np.concatenate(v))\n",
        "n, m = len(v), u.size\n",
        "i = np.arange(n).repeat(l)\n",
        "\n",
        "dummies = pd.DataFrame(\n",
        "    np.bincount(i * m + f, minlength=n * m).reshape(n, m),\n",
        "    cleaned_movies.index, u\n",
        ")\n",
        "cleaned_movies['new_movies_rate'] = np.where(cleaned_movies['year'] >= 2000, 1, np.where(cleaned_movies['year'] < 2000, 0, 0))\n",
        "cleaned_movies['old_movies_rate'] = np.where(cleaned_movies['year'] >= 2000, 0, np.where(cleaned_movies['year'] < 2000, 1, 1))\n",
        "cleaned_movies = cleaned_movies.drop(['genres', 'year'], axis=1).join(dummies)"
      ],
      "metadata": {
        "id": "I2a3f3IF03M5"
      },
      "execution_count": null,
      "outputs": []
    },
    {
      "cell_type": "code",
      "source": [
        "genres_cate = list(genres)\n",
        "\n",
        "def movieid_to_index(movieid_list):\n",
        "    return movie2index.loc[movieid_list]\n",
        "\n",
        "def new_row(index):\n",
        "    # group the movies by user view history\n",
        "    row = user_group.loc[index]\n",
        "    # get the movies info by movies id\n",
        "    movies_info = cleaned_movies.loc[movieid_to_index(row['movieId'])['df_index'].tolist()]\n",
        "    # Reset index to align with ratings\n",
        "    movies_info = movies_info.reset_index(drop=True)\n",
        "    movies_info = movies_info.drop(['movieId'], axis=1)\n",
        "    # weight each row by the rating\n",
        "    # Convert row['rating'] to a Series with the same index as movies_info\n",
        "    rating_series = pd.Series(row['rating'], index=movies_info.index)\n",
        "    movies_info = movies_info.mul(rating_series, axis=0)\n",
        "    non_zero = movies_info.astype(bool).sum(axis=0)\n",
        "    preferences = movies_info.sum()\n",
        "    preferences = preferences.divide(non_zero)\n",
        "    # add other information to the series\n",
        "    preferences['average_rate'] = np.mean(row['rating'])\n",
        "    preferences['number_of_movies'] = len(movies_info)\n",
        "    # we can use either one of the nan filling method, 0 or mean\n",
        "    preferences.fillna(0, inplace=True)\n",
        "    preferences.fillna(preferences['average_rate'], inplace=True)\n",
        "    preferences['userId'] = int(index)\n",
        "    return preferences\n",
        "\n",
        "sub_user = user_group[:8000]\n",
        "i = 1\n",
        "for index in sub_user.index:\n",
        "    if i % 1000 == 0:\n",
        "        print(f'finish ({i/80}%)')\n",
        "    user_preferences = pd.concat([user_preferences, new_row(index).to_frame().T], ignore_index=True)\n",
        "    i += 1\n",
        "print(user_preferences.head())"
      ],
      "metadata": {
        "colab": {
          "base_uri": "https://localhost:8080/"
        },
        "id": "qJoOvlvJUQ7P",
        "outputId": "67c9d32d-0145-41e9-c595-38cead46ab90"
      },
      "execution_count": null,
      "outputs": [
        {
          "output_type": "stream",
          "name": "stderr",
          "text": [
            "<ipython-input-18-8af15fbaeb57>:35: FutureWarning: The behavior of DataFrame concatenation with empty or all-NA entries is deprecated. In a future version, this will no longer exclude empty or all-NA columns when determining the result dtypes. To retain the old behavior, exclude the relevant entries before the concat operation.\n",
            "  user_preferences = pd.concat([user_preferences, new_row(index).to_frame().T], ignore_index=True)\n"
          ]
        },
        {
          "output_type": "stream",
          "name": "stdout",
          "text": [
            "finish (12.5%)\n",
            "finish (25.0%)\n",
            "finish (37.5%)\n",
            "finish (50.0%)\n",
            "finish (62.5%)\n",
            "finish (75.0%)\n",
            "finish (87.5%)\n",
            "finish (100.0%)\n",
            "   userId  number_of_movies  average_rate  new_movies_rate  old_movies_rate  \\\n",
            "0     1.0              70.0      3.814286         3.803571         3.821429   \n",
            "1     2.0             184.0      3.630435         3.819672         3.536585   \n",
            "2     3.0             656.0      3.697409         3.630473         4.147059   \n",
            "3     4.0             242.0      3.378099         3.308673         3.673913   \n",
            "4     5.0             101.0      3.752475         0.000000         3.752475   \n",
            "\n",
            "   Adventure  Animation  Children    Comedy   Fantasy  ...    Horror  \\\n",
            "0   3.727273   4.000000  3.833333  3.869565  3.600000  ...  3.500000   \n",
            "1   3.906667   3.617647  3.660000  3.317460  3.982759  ...  4.000000   \n",
            "2   3.689394   3.980000  3.708333  3.454545  3.737179  ...  3.544444   \n",
            "3   3.074561   3.467742  3.214286  3.611111  2.833333  ...  3.150000   \n",
            "4   3.857143   3.750000  3.333333  3.571429  3.500000  ...  4.666667   \n",
            "\n",
            "    Mystery    Sci-Fi      IMAX  Documentary       War   Musical   Western  \\\n",
            "0  3.500000  3.700000  0.000000     2.000000  3.900000  3.700000  2.500000   \n",
            "1  3.687500  4.017857  4.750000     0.000000  3.433333  3.272727  2.500000   \n",
            "2  3.891667  3.696429  3.734568     3.166667  3.692308  3.583333  3.750000   \n",
            "3  3.805556  3.164706  2.426829     4.100000  3.333333  3.642857  2.833333   \n",
            "4  4.714286  4.090909  4.000000     0.000000  4.500000  3.714286  3.000000   \n",
            "\n",
            "   Film-Noir  (no genres listed)  \n",
            "0        3.5                 0.0  \n",
            "1        0.0                 0.0  \n",
            "2        4.3                 3.5  \n",
            "3        0.0                 0.0  \n",
            "4        0.0                 0.0  \n",
            "\n",
            "[5 rows x 25 columns]\n"
          ]
        }
      ]
    },
    {
      "cell_type": "code",
      "source": [
        "user_preferences.to_csv('cleaned_data_sub.csv', index=False)"
      ],
      "metadata": {
        "id": "AlZxzZmBLejE"
      },
      "execution_count": null,
      "outputs": []
    },
    {
      "cell_type": "markdown",
      "source": [
        "# **Modelling**"
      ],
      "metadata": {
        "id": "0j17jxxxYSX4"
      }
    },
    {
      "cell_type": "markdown",
      "source": [
        "Now, we finish cleaning the data, and we are going the set up the model and test the performence. There are 160000+ of users, If using all of them it will cause the run time to be too long. Here we will only use a part of the data, which is 8000 users. But we will use all the movies for testing, it will also test the model how it perform during small training dataset.\n",
        "\n",
        "We will compare three models hierarchical clustering, density-based clustering, and k-means"
      ],
      "metadata": {
        "id": "ddeNZ7w9YiWR"
      }
    },
    {
      "cell_type": "code",
      "source": [
        "user_preferences = pd.read_csv('cleaned_data_sub.csv')[:8000]\n",
        "\n",
        "userid2index = pd.DataFrame(columns=['userId', 'df_index'])\n",
        "userid2index['df_index'] = user_preferences.index\n",
        "userid2index['userId'] = user_preferences['userId']\n",
        "userid2index.set_index('userId', inplace=True)\n",
        "\n",
        "movies_test = cleaned_movies.sample(frac=0.1, random_state=1)\n",
        "user_test = user_preferences.sample(frac=0.2, random_state=1)\n",
        "print(f'Number of movies for testing {len(movies_test)}')\n",
        "print(f'Number of user for testing {len(user_test)}')"
      ],
      "metadata": {
        "id": "EdF0sDpVZ7G5",
        "colab": {
          "base_uri": "https://localhost:8080/"
        },
        "outputId": "c7ea52af-c889-4643-b790-7ff29df63d65"
      },
      "execution_count": null,
      "outputs": [
        {
          "output_type": "stream",
          "name": "stdout",
          "text": [
            "Number of movies for testing 6242\n",
            "Number of user for testing 1600\n"
          ]
        }
      ]
    },
    {
      "cell_type": "markdown",
      "source": [
        "Because we have 20 genres, we will set our cluster to 20"
      ],
      "metadata": {
        "id": "WBf6WWYJ-hYo"
      }
    },
    {
      "cell_type": "code",
      "source": [
        "train_df = user_preferences.drop(['userId', 'number_of_movies'], axis=1)\n",
        "hierarchical_cluster = AgglomerativeClustering(n_clusters=20, metric='euclidean', linkage='ward')\n",
        "hier_labels = hierarchical_cluster.fit_predict(train_df)\n",
        "\n",
        "dens_cluster = DBSCAN(eps=1, min_samples=20)\n",
        "dens_labels = dens_cluster.fit_predict(train_df)\n",
        "\n",
        "kmeans = KMeans(n_clusters=20, random_state=0, n_init=\"auto\")\n",
        "kmeans_labels = kmeans.fit_predict(train_df)"
      ],
      "metadata": {
        "id": "pPLvRol_6iaO"
      },
      "execution_count": null,
      "outputs": []
    },
    {
      "cell_type": "code",
      "source": [
        "print(hier_labels[:10])\n",
        "print(dens_labels[:10])\n",
        "print(kmeans_labels[:10])"
      ],
      "metadata": {
        "colab": {
          "base_uri": "https://localhost:8080/"
        },
        "id": "7vE2ADxk-sdL",
        "outputId": "ef0a9e66-927b-4a03-c854-05b4fa38d865"
      },
      "execution_count": null,
      "outputs": [
        {
          "output_type": "stream",
          "name": "stdout",
          "text": [
            "[ 1  3 10  2 11  1 11  5  5  2]\n",
            "[-1 -1 -1 -1 -1 -1 -1 -1 -1 -1]\n",
            "[ 7  1  0 17  3  7 13  5 17 17]\n"
          ]
        }
      ]
    },
    {
      "cell_type": "markdown",
      "source": [
        "# **Evaluation**"
      ],
      "metadata": {
        "id": "8UP-WZSHAEWV"
      }
    },
    {
      "cell_type": "markdown",
      "source": [
        "Because our model is designed to predict new movies, none of the movies in the test set have been rated by anyone. In this way, our model can be deployed on new movie recommendations. We evaluate the model in two ways:\n",
        "\n",
        "1.   Collaborative-base: randomly choose some users and get their movies list, then compare the score they give with other similiar users. We will see how similiar with in the group.\n",
        "2.   Content-base: set a threshold of good movies, and change the problem from rating prediction to binary classification, user will like it or not.\n",
        "\n",
        "The first method is for old movies, or those a lot of users reted, and it had been use for many compnaies like eBay, Amazon, YouTube.\n",
        "\n",
        "The second evaluation is situable for new movies, because we only care about whether we can recommend movvies that the audience is interested in, and we don't care about the scores users give to movies, and the movies they do not like.\n",
        "\n",
        "Since only KMeans have the predict funtion, and DBSCAN, AgglomerativeClustering can only clustering, we will test mainly evaluatie the model in collaborative-base.\n"
      ],
      "metadata": {
        "id": "RErPl4bXfh1w"
      }
    },
    {
      "cell_type": "code",
      "source": [
        "def eva(labels, user_test):\n",
        "    id_and_groups = pd.DataFrame(columns=['userId'])\n",
        "    id_and_groups['userId'] = user_preferences['userId']\n",
        "    id_and_groups['cluster'] = labels\n",
        "    scoring_matrix = pd.merge(ratings[:130000], id_and_groups, on='userId')\n",
        "    id_and_groups.set_index('userId', inplace=True)\n",
        "    aver_sum = 0\n",
        "    for en, i in enumerate(user_test['userId']):\n",
        "        clus = labels[en]\n",
        "        movieid = user_group.loc[i]['movieId'][0]\n",
        "        m = scoring_matrix.loc[(scoring_matrix['cluster'] == int(clus)) & (scoring_matrix['movieId'] == movieid)]\n",
        "        aver = m['rating'].mean() - scoring_matrix.loc[(scoring_matrix['userId'] == i) & (scoring_matrix['movieId'] == movieid)]['rating']\n",
        "        aver_sum += np.abs(float(aver.sum()))\n",
        "    return aver_sum/len(user_test)\n",
        "\n",
        "print(f'The error of hiehierarchical clustering is {eva(hier_labels, user_test)}')\n",
        "print(f'The error of DBSCAN is {eva(dens_labels, user_test)}')\n",
        "print(f'The error of K-means is {eva(kmeans_labels, user_test)}')"
      ],
      "metadata": {
        "colab": {
          "base_uri": "https://localhost:8080/"
        },
        "id": "PwrVVU-uAKPR",
        "outputId": "d3093038-c226-4ced-d0a1-c6f519b87707"
      },
      "execution_count": null,
      "outputs": [
        {
          "output_type": "stream",
          "name": "stdout",
          "text": [
            "The error of hiehierarchical clustering is 0.08623279866945613\n",
            "The error of DBSCAN is 0.08877510393160942\n",
            "The error of K-means is 0.08401202129063712\n"
          ]
        }
      ]
    },
    {
      "cell_type": "markdown",
      "source": [
        "## Tuning Model"
      ],
      "metadata": {
        "id": "JzaR76eElIwn"
      }
    },
    {
      "cell_type": "markdown",
      "source": [
        "Now we will tune our model find the best hyperparameters. We can change the n_clusters and metric."
      ],
      "metadata": {
        "id": "4IyVyyQIlLAz"
      }
    },
    {
      "cell_type": "code",
      "source": [
        "# we will grid search the DBSCAN and AgglomerativeClustering\n",
        "eps = [0.1, 0.3, 0.6, 1, 1.3]\n",
        "for i in eps:\n",
        "    print(f'DBSCAN with eps {i} in error {eva(DBSCAN(eps=i, min_samples=20).fit_predict(train_df), user_test)}')"
      ],
      "metadata": {
        "colab": {
          "base_uri": "https://localhost:8080/"
        },
        "id": "NqrixftUqMC8",
        "outputId": "93c76e34-d7a0-4c38-99d6-f7d1c42d0a1f"
      },
      "execution_count": null,
      "outputs": [
        {
          "output_type": "stream",
          "name": "stdout",
          "text": [
            "DBSCAN with eps 0.1 in error 0.08807904189784421\n",
            "DBSCAN with eps 0.3 in error 0.08807904189784421\n",
            "DBSCAN with eps 0.6 in error 0.08807904189784421\n",
            "DBSCAN with eps 1 in error 0.08877510393160942\n",
            "DBSCAN with eps 1.3 in error 0.08863234274313773\n"
          ]
        }
      ]
    },
    {
      "cell_type": "code",
      "source": [
        "n_clu = [14, 16, 18, 20, 22]\n",
        "for i in n_clu:\n",
        "    err = eva(AgglomerativeClustering(n_clusters=i, linkage='ward').fit_predict(train_df), user_test)\n",
        "    print(f'AgglomerativeClustering with n_cluster {i} in error {err}')"
      ],
      "metadata": {
        "colab": {
          "base_uri": "https://localhost:8080/"
        },
        "id": "Hldfr-7hrBJd",
        "outputId": "9be2dc5f-5de0-4690-b6f2-04a81f56b0ab"
      },
      "execution_count": null,
      "outputs": [
        {
          "output_type": "stream",
          "name": "stdout",
          "text": [
            "AgglomerativeClustering with n_cluster 14 in error 0.09227356012203951\n",
            "AgglomerativeClustering with n_cluster 16 in error 0.09065956367107578\n",
            "AgglomerativeClustering with n_cluster 18 in error 0.08595283201448944\n",
            "AgglomerativeClustering with n_cluster 20 in error 0.08623279866945613\n",
            "AgglomerativeClustering with n_cluster 22 in error 0.08392197277659898\n"
          ]
        }
      ]
    },
    {
      "cell_type": "markdown",
      "source": [
        "## Conclusion"
      ],
      "metadata": {
        "id": "565KWOEYsYAt"
      }
    },
    {
      "cell_type": "markdown",
      "source": [
        "This project is mainly focusing on cleaning and modifing the data, so we don't need to use complex model or do much model tuning. Our models give good performance, and DBSCAN have the best result."
      ],
      "metadata": {
        "id": "NVf7Mj1Xsfyr"
      }
    }
  ]
}